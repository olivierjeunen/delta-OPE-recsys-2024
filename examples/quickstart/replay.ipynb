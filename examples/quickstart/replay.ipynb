{
 "cells": [
  {
   "cell_type": "markdown",
   "metadata": {},
   "source": [
    "# Quickstart Example of Off-Policy Evaluation of Online Bandit Algorithms\n",
    "---\n",
    "This notebook provides an example of conducting OPE of online bandit algorithms using Replay Method (RM) with synthetic bandit feedback data.\n",
    "RM uses a subset of the logged bandit feedback data where actions selected by the behavior policy are the same as that of the evaluation policy.\n",
    "Theoretically, RM is unbiased when the behavior policy is uniformly random and the evaluation policy is fixed.\n",
    "However, empirically, RM works well when evaluation policies are learning algorithms.\n",
    "Please refer to https://arxiv.org/abs/1003.5956 about the details of RM.\n",
    "\n",
    "Our example with online bandit algorithms contains the following three major steps:\n",
    "- (1) Synthetic Data Generation\n",
    "- (2) Off-Policy Evaluation (OPE)\n",
    "- (3) Evaluation of OPE\n",
    "\n",
    "Please see [../examples/online](../online) for a more sophisticated example of the evaluation of OPE of online bandit algorithms."
   ]
  },
  {
   "cell_type": "code",
   "execution_count": 1,
   "metadata": {},
   "outputs": [],
   "source": [
    "# needed when using Google Colab\n",
    "# !pip install obp"
   ]
  },
  {
   "cell_type": "code",
   "execution_count": 2,
   "metadata": {},
   "outputs": [],
   "source": [
    "# import open bandit pipeline (obp)\n",
    "import obp\n",
    "from obp.dataset import (\n",
    "    SyntheticBanditDataset,\n",
    "    logistic_reward_function\n",
    ")\n",
    "from obp.policy import EpsilonGreedy, LinTS, LinUCB\n",
    "from obp.ope import (\n",
    "    OffPolicyEvaluation, \n",
    "    ReplayMethod\n",
    ")\n",
    "from obp.simulator import (\n",
    "    calc_ground_truth_policy_value,\n",
    ")"
   ]
  },
  {
   "cell_type": "code",
   "execution_count": 3,
   "metadata": {},
   "outputs": [
    {
     "name": "stdout",
     "output_type": "stream",
     "text": [
      "0.5.4\n"
     ]
    }
   ],
   "source": [
    "# obp version\n",
    "print(obp.__version__)"
   ]
  },
  {
   "cell_type": "code",
   "execution_count": null,
   "metadata": {},
   "outputs": [],
   "source": []
  },
  {
   "cell_type": "markdown",
   "metadata": {},
   "source": [
    "## (1) Synthetic Data Generation\n",
    "We prepare easy-to-use synthetic data generator: `SyntheticBanditDataset` class in the dataset module.\n",
    "\n",
    "It takes number of actions (`n_actions`), dimension of context vectors (`dim_context`), reward function (`reward_function`), and behavior policy (`behavior_policy_function`) as inputs and generates a synthetic bandit dataset that can be used to evaluate the performance of decision making policies (obtained by `off-policy learning`) and OPE estimators."
   ]
  },
  {
   "cell_type": "code",
   "execution_count": 4,
   "metadata": {
    "tags": []
   },
   "outputs": [
    {
     "data": {
      "text/plain": [
       "{'n_rounds': 10000,\n",
       " 'n_actions': 10,\n",
       " 'context': array([[-0.20470766,  0.47894334, -0.51943872, -0.5557303 ,  1.96578057],\n",
       "        [ 1.39340583,  0.09290788,  0.28174615,  0.76902257,  1.24643474],\n",
       "        [ 1.00718936, -1.29622111,  0.27499163,  0.22891288,  1.35291684],\n",
       "        ...,\n",
       "        [-1.27028221,  0.80914602, -0.45084222,  0.47179511,  1.89401115],\n",
       "        [-0.68890924,  0.08857502, -0.56359347, -0.41135069,  0.65157486],\n",
       "        [ 0.51204121,  0.65384817, -1.98849253, -2.14429131, -0.34186901]]),\n",
       " 'action_context': array([[1, 0, 0, 0, 0, 0, 0, 0, 0, 0],\n",
       "        [0, 1, 0, 0, 0, 0, 0, 0, 0, 0],\n",
       "        [0, 0, 1, 0, 0, 0, 0, 0, 0, 0],\n",
       "        [0, 0, 0, 1, 0, 0, 0, 0, 0, 0],\n",
       "        [0, 0, 0, 0, 1, 0, 0, 0, 0, 0],\n",
       "        [0, 0, 0, 0, 0, 1, 0, 0, 0, 0],\n",
       "        [0, 0, 0, 0, 0, 0, 1, 0, 0, 0],\n",
       "        [0, 0, 0, 0, 0, 0, 0, 1, 0, 0],\n",
       "        [0, 0, 0, 0, 0, 0, 0, 0, 1, 0],\n",
       "        [0, 0, 0, 0, 0, 0, 0, 0, 0, 1]]),\n",
       " 'action': array([9, 3, 2, ..., 0, 2, 7]),\n",
       " 'position': None,\n",
       " 'reward': array([1, 1, 0, ..., 0, 0, 1]),\n",
       " 'expected_reward': array([[0.81612381, 0.62585527, 0.3867853 , ..., 0.62527072, 0.58635322,\n",
       "         0.38638404],\n",
       "        [0.52901819, 0.30298844, 0.47277431, ..., 0.67711224, 0.55584904,\n",
       "         0.60472268],\n",
       "        [0.47070198, 0.44459997, 0.40016028, ..., 0.71193979, 0.49769816,\n",
       "         0.71876507],\n",
       "        ...,\n",
       "        [0.85229627, 0.60343336, 0.18287765, ..., 0.54555271, 0.77112271,\n",
       "         0.18843358],\n",
       "        [0.78101646, 0.68586084, 0.40700551, ..., 0.45177062, 0.63841605,\n",
       "         0.48128186],\n",
       "        [0.88757249, 0.75954519, 0.82721872, ..., 0.3422384 , 0.33609074,\n",
       "         0.84539856]]),\n",
       " 'pi_b': array([[[0.13284158],\n",
       "         [0.10982506],\n",
       "         [0.08647184],\n",
       "         ...,\n",
       "         [0.10976088],\n",
       "         [0.10557132],\n",
       "         [0.08643715]],\n",
       " \n",
       "        [[0.10165762],\n",
       "         [0.08109171],\n",
       "         [0.09609782],\n",
       "         ...,\n",
       "         [0.11788441],\n",
       "         [0.1044221 ],\n",
       "         [0.10965236]],\n",
       " \n",
       "        [[0.09128276],\n",
       "         [0.08893092],\n",
       "         [0.08506539],\n",
       "         ...,\n",
       "         [0.11618686],\n",
       "         [0.09378061],\n",
       "         [0.11698258]],\n",
       " \n",
       "        ...,\n",
       " \n",
       "        [[0.13979975],\n",
       "         [0.10900003],\n",
       "         [0.07157834],\n",
       "         ...,\n",
       "         [0.10287015],\n",
       "         [0.12890008],\n",
       "         [0.07197713]],\n",
       " \n",
       "        [[0.12794035],\n",
       "         [0.11632739],\n",
       "         [0.08801904],\n",
       "         ...,\n",
       "         [0.09204875],\n",
       "         [0.11093714],\n",
       "         [0.0948057 ]],\n",
       " \n",
       "        [[0.1309115 ],\n",
       "         [0.11517978],\n",
       "         [0.1232442 ],\n",
       "         ...,\n",
       "         [0.0758826 ],\n",
       "         [0.07541753],\n",
       "         [0.12550525]]]),\n",
       " 'pscore': array([0.08643715, 0.11568983, 0.08506539, ..., 0.13979975, 0.08801904,\n",
       "        0.0758826 ])}"
      ]
     },
     "execution_count": 4,
     "metadata": {},
     "output_type": "execute_result"
    }
   ],
   "source": [
    "# generate a synthetic bandit dataset with 10 actions\n",
    "# we use `logistic function` as the reward function\n",
    "# we use the uniformly random behavior policy because it is desriable for RM\n",
    "# one can define their own reward function and behavior policy such as nonlinear ones. \n",
    "dataset = SyntheticBanditDataset(\n",
    "    n_actions=10,\n",
    "    dim_context=5,\n",
    "    reward_type=\"binary\", # \"binary\" or \"continuous\"\n",
    "    reward_function=logistic_reward_function,\n",
    "    behavior_policy_function=None, # uniformly random\n",
    "    random_state=12345,\n",
    ")\n",
    "# obtain a set of synthetic logged bandit feedback\n",
    "n_rounds = 10000\n",
    "bandit_feedback = dataset.obtain_batch_bandit_feedback(n_rounds=n_rounds)\n",
    "\n",
    "# `bandit_feedback` is a dictionary storing synthetic logged bandit data\n",
    "bandit_feedback"
   ]
  },
  {
   "cell_type": "code",
   "execution_count": null,
   "metadata": {},
   "outputs": [],
   "source": []
  },
  {
   "cell_type": "markdown",
   "metadata": {},
   "source": [
    "## (2) Off-Policy Evaluation (OPE)\n",
    "Our next step is OPE which aims to estimate the performance of online bandit algorithms using logged bandit data and RM.\n",
    "\n",
    "Here, we visualize the OPE results."
   ]
  },
  {
   "cell_type": "code",
   "execution_count": 5,
   "metadata": {},
   "outputs": [
    {
     "name": "stderr",
     "output_type": "stream",
     "text": [
      "100%|██████████| 10000/10000 [00:00<00:00, 72377.23it/s]\n",
      "100%|██████████| 10000/10000 [00:10<00:00, 924.59it/s]\n",
      "100%|██████████| 10000/10000 [00:00<00:00, 10100.23it/s]\n"
     ]
    }
   ],
   "source": [
    "# simulations of online bandit algorithms\n",
    "# obtain a deterministic action distribution representing which action is selected at each round in the simulation\n",
    "# policies are updated only when the selected action is the same as that of the logged data\n",
    "epsilon_greedy = EpsilonGreedy(\n",
    "    n_actions=dataset.n_actions,\n",
    "    epsilon=0.1,\n",
    "    random_state=12345\n",
    ")\n",
    "action_dist_epsilon_greedy = run_bandit_replay(\n",
    "    bandit_feedback=bandit_feedback,\n",
    "    policy=epsilon_greedy\n",
    ")\n",
    "\n",
    "lin_ts = LinTS(\n",
    "    dim=dataset.dim_context,\n",
    "    n_actions=dataset.n_actions,\n",
    "    random_state=12345\n",
    ")\n",
    "action_dist_lin_ts = run_bandit_replay(\n",
    "    bandit_feedback=bandit_feedback,\n",
    "    policy=lin_ts\n",
    ")\n",
    "\n",
    "lin_ucb = LinUCB(\n",
    "    dim=dataset.dim_context,\n",
    "    n_actions=dataset.n_actions,\n",
    "    random_state=12345\n",
    ")\n",
    "action_dist_lin_ucb = run_bandit_replay(\n",
    "    bandit_feedback=bandit_feedback,\n",
    "    policy=lin_ucb\n",
    ")"
   ]
  },
  {
   "cell_type": "code",
   "execution_count": 6,
   "metadata": {
    "tags": []
   },
   "outputs": [],
   "source": [
    "# estimate the policy value of the online bandit algorithms using RM\n",
    "ope = OffPolicyEvaluation(\n",
    "    bandit_feedback=bandit_feedback,\n",
    "    ope_estimators=[ReplayMethod()]\n",
    ")"
   ]
  },
  {
   "cell_type": "code",
   "execution_count": 7,
   "metadata": {
    "tags": []
   },
   "outputs": [
    {
     "name": "stdout",
     "output_type": "stream",
     "text": [
      "    95.0% CI (lower)  95.0% CI (upper)     mean\n",
      "rm          0.548577          0.633734  0.59423 \n",
      "\n"
     ]
    },
    {
     "data": {
      "image/png": "[encoded data removed]",
      "text/plain": [
       "<Figure size 576x432 with 1 Axes>"
      ]
     },
     "metadata": {},
     "output_type": "display_data"
    }
   ],
   "source": [
    "# estimate the policy value of EpsilonGreedy\n",
    "estimated_policy_value_epsilon_greedy, estimated_interval_epsilon_greedy = ope.summarize_off_policy_estimates(\n",
    "    action_dist=action_dist_epsilon_greedy\n",
    ")\n",
    "print(estimated_interval_epsilon_greedy, '\\n')\n",
    "\n",
    "# visualize estimated policy values of EpsilonGreedy by the three OPE estimators\n",
    "# and their 95% confidence intervals (estimated by nonparametric bootstrap method)\n",
    "ope.visualize_off_policy_estimates(\n",
    "    action_dist=action_dist_epsilon_greedy,\n",
    "    n_bootstrap_samples=10000, # number of resampling performed in bootstrap sampling\n",
    "    random_state=12345,\n",
    ")"
   ]
  },
  {
   "cell_type": "code",
   "execution_count": 8,
   "metadata": {},
   "outputs": [
    {
     "name": "stdout",
     "output_type": "stream",
     "text": [
      "    95.0% CI (lower)  95.0% CI (upper)      mean\n",
      "rm          0.615827          0.712571  0.662281 \n",
      "\n"
     ]
    },
    {
     "data": {
      "image/png": "[encoded data removed]",
      "text/plain": [
       "<Figure size 576x432 with 1 Axes>"
      ]
     },
     "metadata": {},
     "output_type": "display_data"
    }
   ],
   "source": [
    "# estimate the policy value of LinTS\n",
    "estimated_policy_value_lin_ts, estimated_interval_lin_ts = ope.summarize_off_policy_estimates(\n",
    "    action_dist=action_dist_lin_ts\n",
    ")\n",
    "print(estimated_interval_lin_ts, '\\n')\n",
    "\n",
    "# visualize estimated policy values of LinTS by the three OPE estimators\n",
    "# and their 95% confidence intervals (estimated by nonparametric bootstrap method)\n",
    "ope.visualize_off_policy_estimates(\n",
    "    action_dist=action_dist_lin_ts,\n",
    "    n_bootstrap_samples=10000, # number of resampling performed in bootstrap sampling\n",
    "    random_state=12345,\n",
    ")"
   ]
  },
  {
   "cell_type": "code",
   "execution_count": 9,
   "metadata": {},
   "outputs": [
    {
     "name": "stdout",
     "output_type": "stream",
     "text": [
      "    95.0% CI (lower)  95.0% CI (upper)      mean\n",
      "rm          0.581798          0.674513  0.626882 \n",
      "\n"
     ]
    },
    {
     "data": {
      "image/png": "[encoded data removed]",
      "text/plain": [
       "<Figure size 576x432 with 1 Axes>"
      ]
     },
     "metadata": {},
     "output_type": "display_data"
    }
   ],
   "source": [
    "# estimate the policy value of LinUCB\n",
    "estimated_policy_value_lin_ucb, estimated_interval_lin_ucb = ope.summarize_off_policy_estimates(\n",
    "    action_dist=action_dist_lin_ucb\n",
    ")\n",
    "print(estimated_interval_lin_ucb, '\\n')\n",
    "\n",
    "# visualize estimated policy values of LinUCB by the three OPE estimators\n",
    "# and their 95% confidence intervals (estimated by nonparametric bootstrap method)\n",
    "ope.visualize_off_policy_estimates(\n",
    "    action_dist=action_dist_lin_ucb,\n",
    "    n_bootstrap_samples=10000, # number of resampling performed in bootstrap sampling\n",
    "    random_state=12345,\n",
    ")"
   ]
  },
  {
   "cell_type": "markdown",
   "metadata": {},
   "source": [
    "RM estimates that LinTS is the best policy."
   ]
  },
  {
   "cell_type": "code",
   "execution_count": null,
   "metadata": {},
   "outputs": [],
   "source": []
  },
  {
   "cell_type": "markdown",
   "metadata": {},
   "source": [
    "## (3) Evaluation of OPE\n",
    "Our final step is **the evaluation of OPE**, which evaluates and compares the estimation accuracy of OPE estimators.\n",
    "\n",
    "With synthetic data, we can calculate the policy value of the evaluation policies. \n",
    "Therefore, we can compare the policy values estimated by RM with the ground-turths to evaluate the accuracy of OPE."
   ]
  },
  {
   "cell_type": "code",
   "execution_count": 10,
   "metadata": {
    "tags": []
   },
   "outputs": [
    {
     "name": "stderr",
     "output_type": "stream",
     "text": [
      "100%|██████████| 3/3 [00:18<00:00,  6.20s/it]\n",
      "100%|██████████| 3/3 [00:51<00:00, 17.10s/it]\n",
      "100%|██████████| 3/3 [00:21<00:00,  7.24s/it]"
     ]
    },
    {
     "name": "stdout",
     "output_type": "stream",
     "text": [
      "policy value of EpsilonGreedy: 0.6056001659264234\n",
      "policy value of LinTS: 0.7515744188226375\n",
      "policy value of LinUCB: 0.6689063585401301\n"
     ]
    },
    {
     "name": "stderr",
     "output_type": "stream",
     "text": [
      "\n"
     ]
    }
   ],
   "source": [
    "# we first calculate the policy values of the three evaluation policies\n",
    "# in synthetic data, we know p(r|x,a), the reward distribution, so we can perform simulations\n",
    "# here, a policy is updated at each round according to actions and rewards sampled from the policy and p(r|x,a)\n",
    "# the policy values are averaged over `n_sim` simulations\n",
    "policy_value_epsilon_greedy = calc_ground_truth_policy_value(\n",
    "    bandit_feedback=bandit_feedback,\n",
    "    reward_sampler=dataset.sample_reward, # p(r|x,a)\n",
    "    policy=epsilon_greedy,\n",
    "    n_sim=3 # the number of simulations\n",
    ")\n",
    "policy_value_lin_ts = calc_ground_truth_policy_value(\n",
    "    bandit_feedback=bandit_feedback,\n",
    "    reward_sampler=dataset.sample_reward, # p(r|x,a)\n",
    "    policy=lin_ts,\n",
    "    n_sim=3 # the number of simulations\n",
    ")\n",
    "policy_value_lin_ucb = calc_ground_truth_policy_value(\n",
    "    bandit_feedback=bandit_feedback,\n",
    "    reward_sampler=dataset.sample_reward, # p(r|x,a)\n",
    "    policy=lin_ucb,\n",
    "    n_sim=3 # the number of simulations\n",
    ")\n",
    "\n",
    "print(f'policy value of EpsilonGreedy: {policy_value_epsilon_greedy}')\n",
    "print(f'policy value of LinTS: {policy_value_lin_ts}')\n",
    "print(f'policy value of LinUCB: {policy_value_lin_ucb}')"
   ]
  },
  {
   "cell_type": "markdown",
   "metadata": {},
   "source": [
    "In fact, LinTS reveals the best performance among the three evaluation policies.\n",
    "\n",
    "Using the above policy values, we evaluate the estimation accuracy of the OPE estimators."
   ]
  },
  {
   "cell_type": "code",
   "execution_count": 11,
   "metadata": {},
   "outputs": [
    {
     "data": {
      "text/html": [
       "<div>\n",
       "<style scoped>\n",
       "    .dataframe tbody tr th:only-of-type {\n",
       "        vertical-align: middle;\n",
       "    }\n",
       "\n",
       "    .dataframe tbody tr th {\n",
       "        vertical-align: top;\n",
       "    }\n",
       "\n",
       "    .dataframe thead th {\n",
       "        text-align: right;\n",
       "    }\n",
       "</style>\n",
       "<table border=\"1\" class=\"dataframe\">\n",
       "  <thead>\n",
       "    <tr style=\"text-align: right;\">\n",
       "      <th></th>\n",
       "      <th>relative-ee</th>\n",
       "    </tr>\n",
       "  </thead>\n",
       "  <tbody>\n",
       "    <tr>\n",
       "      <th>rm</th>\n",
       "      <td>0.02448</td>\n",
       "    </tr>\n",
       "  </tbody>\n",
       "</table>\n",
       "</div>"
      ],
      "text/plain": [
       "    relative-ee\n",
       "rm      0.02448"
      ]
     },
     "execution_count": 11,
     "metadata": {},
     "output_type": "execute_result"
    }
   ],
   "source": [
    "# evaluate the estimation performances of OPE estimators \n",
    "# by comparing the estimated policy values of EpsilonGreedy and its ground-truth.\n",
    "# `summarize_estimators_comparison` returns a pandas dataframe containing estimation performances of given estimators \n",
    "relative_ee_epsilon_greedy = ope.summarize_estimators_comparison(\n",
    "    ground_truth_policy_value=policy_value_epsilon_greedy,\n",
    "    action_dist=action_dist_epsilon_greedy,\n",
    "    metric=\"relative-ee\", # \"relative-ee\" (relative estimation error) or \"se\" (squared error)\n",
    ")\n",
    "\n",
    "# estimation performances of the three estimators (lower means accurate)\n",
    "relative_ee_epsilon_greedy"
   ]
  },
  {
   "cell_type": "code",
   "execution_count": 12,
   "metadata": {},
   "outputs": [
    {
     "data": {
      "text/html": [
       "<div>\n",
       "<style scoped>\n",
       "    .dataframe tbody tr th:only-of-type {\n",
       "        vertical-align: middle;\n",
       "    }\n",
       "\n",
       "    .dataframe tbody tr th {\n",
       "        vertical-align: top;\n",
       "    }\n",
       "\n",
       "    .dataframe thead th {\n",
       "        text-align: right;\n",
       "    }\n",
       "</style>\n",
       "<table border=\"1\" class=\"dataframe\">\n",
       "  <thead>\n",
       "    <tr style=\"text-align: right;\">\n",
       "      <th></th>\n",
       "      <th>relative-ee</th>\n",
       "    </tr>\n",
       "  </thead>\n",
       "  <tbody>\n",
       "    <tr>\n",
       "      <th>rm</th>\n",
       "      <td>0.118454</td>\n",
       "    </tr>\n",
       "  </tbody>\n",
       "</table>\n",
       "</div>"
      ],
      "text/plain": [
       "    relative-ee\n",
       "rm     0.118454"
      ]
     },
     "execution_count": 12,
     "metadata": {},
     "output_type": "execute_result"
    }
   ],
   "source": [
    "# evaluate the estimation performance of OPE estimators \n",
    "# by comparing the estimated policy values of LinTS t and its ground-truth.\n",
    "# `summarize_estimators_comparison` returns a pandas dataframe containing estimation performances of given estimators \n",
    "relative_ee_lin_ts = ope.summarize_estimators_comparison(\n",
    "    ground_truth_policy_value=policy_value_lin_ts,\n",
    "    action_dist=action_dist_lin_ts,\n",
    "    metric=\"relative-ee\", # \"relative-ee\" (relative estimation error) or \"se\" (squared error)\n",
    ")\n",
    "\n",
    "# estimation performances of the three estimators (lower means accurate)\n",
    "relative_ee_lin_ts"
   ]
  },
  {
   "cell_type": "code",
   "execution_count": 13,
   "metadata": {},
   "outputs": [
    {
     "data": {
      "text/html": [
       "<div>\n",
       "<style scoped>\n",
       "    .dataframe tbody tr th:only-of-type {\n",
       "        vertical-align: middle;\n",
       "    }\n",
       "\n",
       "    .dataframe tbody tr th {\n",
       "        vertical-align: top;\n",
       "    }\n",
       "\n",
       "    .dataframe thead th {\n",
       "        text-align: right;\n",
       "    }\n",
       "</style>\n",
       "<table border=\"1\" class=\"dataframe\">\n",
       "  <thead>\n",
       "    <tr style=\"text-align: right;\">\n",
       "      <th></th>\n",
       "      <th>relative-ee</th>\n",
       "    </tr>\n",
       "  </thead>\n",
       "  <tbody>\n",
       "    <tr>\n",
       "      <th>rm</th>\n",
       "      <td>0.058522</td>\n",
       "    </tr>\n",
       "  </tbody>\n",
       "</table>\n",
       "</div>"
      ],
      "text/plain": [
       "    relative-ee\n",
       "rm     0.058522"
      ]
     },
     "execution_count": 13,
     "metadata": {},
     "output_type": "execute_result"
    }
   ],
   "source": [
    "# evaluate the estimation performance of OPE estimators \n",
    "# by comparing the estimated policy values of LinUCB and its ground-truth.\n",
    "# `summarize_estimators_comparison` returns a pandas dataframe containing estimation performances of given estimators \n",
    "relative_ee_lin_ucb = ope.summarize_estimators_comparison(\n",
    "    ground_truth_policy_value=policy_value_lin_ucb,\n",
    "    action_dist=action_dist_lin_ucb,\n",
    "    metric=\"relative-ee\", # \"relative-ee\" (relative estimation error) or \"se\" (squared error)\n",
    ")\n",
    "\n",
    "# estimation performances of the three estimators (lower means accurate)\n",
    "relative_ee_lin_ucb"
   ]
  },
  {
   "cell_type": "markdown",
   "metadata": {},
   "source": [
    "Please see [../examples/online](../online) for a more sophisticated example of the evaluation of OPE with online bandit algorithms."
   ]
  },
  {
   "cell_type": "code",
   "execution_count": null,
   "metadata": {},
   "outputs": [],
   "source": []
  }
 ],
 "metadata": {
  "kernelspec": {
   "display_name": "Python 3.8.2 64-bit ('3.8.2')",
   "metadata": {
    "interpreter": {
     "hash": "a588998c237fcc28dc215a10a422972d26151263dec0bff02e1a95f6e2b22b77"
    }
   },
   "name": "python3"
  },
  "language_info": {
   "codemirror_mode": {
    "name": "ipython",
    "version": 3
   },
   "file_extension": ".py",
   "mimetype": "text/x-python",
   "name": "python",
   "nbconvert_exporter": "python",
   "pygments_lexer": "ipython3",
   "version": "3.9.5"
  }
 },
 "nbformat": 4,
 "nbformat_minor": 2
}