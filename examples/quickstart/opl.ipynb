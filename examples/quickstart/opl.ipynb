{
 "cells": [
  {
   "cell_type": "markdown",
   "metadata": {},
   "source": [
    "# Quickstart Example with Off-Policy Learners\n",
    "---\n",
    "This notebook provides an example of implementing several off-policy learning methods with synthetic logged bandit data.\n",
    "\n",
    "The example consists of the following four major steps:\n",
    "- (1) Generating Synthetic Data\n",
    "- (2) Off-Policy Learning\n",
    "- (3) Evaluation of Off-Policy Learners\n",
    "\n",
    "Please see [../examples/opl](../opl) for a more sophisticated example of the evaluation of off-policy learners with synthetic bandit data."
   ]
  },
  {
   "cell_type": "code",
   "execution_count": 1,
   "metadata": {},
   "outputs": [],
   "source": [
    "# needed when using Google Colab\n",
    "# !pip install obp"
   ]
  },
  {
   "cell_type": "code",
   "execution_count": 2,
   "metadata": {},
   "outputs": [],
   "source": [
    "from sklearn.ensemble import RandomForestClassifier as RandomForest\n",
    "from sklearn.linear_model import LogisticRegression\n",
    "\n",
    "# import open bandit pipeline (obp)\n",
    "import obp\n",
    "from obp.dataset import (\n",
    "    SyntheticBanditDataset,\n",
    "    logistic_reward_function,\n",
    "    linear_reward_function\n",
    ")\n",
    "from obp.policy import (\n",
    "    IPWLearner, \n",
    "    QLearner,\n",
    "    NNPolicyLearner, \n",
    "    Random\n",
    ")"
   ]
  },
  {
   "cell_type": "code",
   "execution_count": 3,
   "metadata": {},
   "outputs": [
    {
     "name": "stdout",
     "output_type": "stream",
     "text": [
      "0.5.4\n"
     ]
    }
   ],
   "source": [
    "# obp version\n",
    "print(obp.__version__)"
   ]
  },
  {
   "cell_type": "code",
   "execution_count": null,
   "metadata": {},
   "outputs": [],
   "source": []
  },
  {
   "cell_type": "markdown",
   "metadata": {},
   "source": [
    "## (1) Generating Synthetic Data\n",
    "`obp.dataset.SyntheticBanditDataset` is an easy-to-use synthetic data generator.\n",
    "\n",
    "It takes \n",
    "- number of actions (`n_actions`, $|\\mathcal{A}|$)\n",
    "- dimension of context vectors (`dim_context`, $d$)\n",
    "- reward function (`reward_function`, $q(x,a)=\\mathbb{E}[r|x,a]$)\n",
    "\n",
    "as inputs and generates synthetic logged bandit data that can be used to evaluate the performance of decision making policies (obtained by `off-policy learning`)."
   ]
  },
  {
   "cell_type": "code",
   "execution_count": 4,
   "metadata": {
    "tags": []
   },
   "outputs": [],
   "source": [
    "# generate synthetic logged bandit data with 10 actions\n",
    "# we use `logistic function` as the reward function and control the behavior policy with `beta`\n",
    "# one can define their own reward function and behavior policy function such as nonlinear ones. \n",
    "dataset = SyntheticBanditDataset(\n",
    "    n_actions=10,\n",
    "    dim_context=5,\n",
    "    beta=-2, # inverse temperature parameter to control the optimality and entropy of the behavior policy\n",
    "    reward_type=\"binary\", # \"binary\" or \"continuous\"\n",
    "    reward_function=logistic_reward_function,\n",
    "    random_state=12345,\n",
    ")"
   ]
  },
  {
   "cell_type": "code",
   "execution_count": 5,
   "metadata": {},
   "outputs": [],
   "source": [
    "# obtain training and test sets of synthetic logged bandit data\n",
    "n_rounds_train, n_rounds_test = 10000, 10000\n",
    "bandit_feedback_train = dataset.obtain_batch_bandit_feedback(n_rounds=n_rounds_train)\n",
    "bandit_feedback_test = dataset.obtain_batch_bandit_feedback(n_rounds=n_rounds_test)"
   ]
  },
  {
   "cell_type": "markdown",
   "metadata": {},
   "source": [
    "the logged bandit dataset is collected by the behavior policy as follows.\n",
    "\n",
    "$ \\mathcal{D}_b := \\{(x_i,a_i,r_i)\\}_{i=1}^n$  where $(x,a,r) \\sim p(x)\\pi_b(a | x)p(r | x,a) $"
   ]
  },
  {
   "cell_type": "code",
   "execution_count": 6,
   "metadata": {},
   "outputs": [
    {
     "data": {
      "text/plain": [
       "{'n_rounds': 10000,\n",
       " 'n_actions': 10,\n",
       " 'context': array([[-0.20470766,  0.47894334, -0.51943872, -0.5557303 ,  1.96578057],\n",
       "        [ 1.39340583,  0.09290788,  0.28174615,  0.76902257,  1.24643474],\n",
       "        [ 1.00718936, -1.29622111,  0.27499163,  0.22891288,  1.35291684],\n",
       "        ...,\n",
       "        [-1.27028221,  0.80914602, -0.45084222,  0.47179511,  1.89401115],\n",
       "        [-0.68890924,  0.08857502, -0.56359347, -0.41135069,  0.65157486],\n",
       "        [ 0.51204121,  0.65384817, -1.98849253, -2.14429131, -0.34186901]]),\n",
       " 'action_context': array([[1, 0, 0, 0, 0, 0, 0, 0, 0, 0],\n",
       "        [0, 1, 0, 0, 0, 0, 0, 0, 0, 0],\n",
       "        [0, 0, 1, 0, 0, 0, 0, 0, 0, 0],\n",
       "        [0, 0, 0, 1, 0, 0, 0, 0, 0, 0],\n",
       "        [0, 0, 0, 0, 1, 0, 0, 0, 0, 0],\n",
       "        [0, 0, 0, 0, 0, 1, 0, 0, 0, 0],\n",
       "        [0, 0, 0, 0, 0, 0, 1, 0, 0, 0],\n",
       "        [0, 0, 0, 0, 0, 0, 0, 1, 0, 0],\n",
       "        [0, 0, 0, 0, 0, 0, 0, 0, 1, 0],\n",
       "        [0, 0, 0, 0, 0, 0, 0, 0, 0, 1]]),\n",
       " 'action': array([9, 2, 1, ..., 0, 3, 7]),\n",
       " 'position': None,\n",
       " 'reward': array([1, 0, 0, ..., 0, 0, 1]),\n",
       " 'expected_reward': array([[0.81612381, 0.62585527, 0.3867853 , ..., 0.62527072, 0.58635322,\n",
       "         0.38638404],\n",
       "        [0.52901819, 0.30298844, 0.47277431, ..., 0.67711224, 0.55584904,\n",
       "         0.60472268],\n",
       "        [0.47070198, 0.44459997, 0.40016028, ..., 0.71193979, 0.49769816,\n",
       "         0.71876507],\n",
       "        ...,\n",
       "        [0.85229627, 0.60343336, 0.18287765, ..., 0.54555271, 0.77112271,\n",
       "         0.18843358],\n",
       "        [0.78101646, 0.68586084, 0.40700551, ..., 0.45177062, 0.63841605,\n",
       "         0.48128186],\n",
       "        [0.88757249, 0.75954519, 0.82721872, ..., 0.3422384 , 0.33609074,\n",
       "         0.84539856]]),\n",
       " 'pi_b': array([[[0.05132742],\n",
       "         [0.07509562],\n",
       "         [0.12113457],\n",
       "         ...,\n",
       "         [0.07518346],\n",
       "         [0.08126913],\n",
       "         [0.12123183]],\n",
       " \n",
       "        [[0.0913545 ],\n",
       "         [0.14356775],\n",
       "         [0.10223103],\n",
       "         ...,\n",
       "         [0.06793555],\n",
       "         [0.08658147],\n",
       "         [0.07851884]],\n",
       " \n",
       "        [[0.11315543],\n",
       "         [0.1192195 ],\n",
       "         [0.13030082],\n",
       "         ...,\n",
       "         [0.06984557],\n",
       "         [0.1072079 ],\n",
       "         [0.06889862]],\n",
       " \n",
       "        ...,\n",
       " \n",
       "        [[0.04138881],\n",
       "         [0.0680836 ],\n",
       "         [0.15788198],\n",
       "         ...,\n",
       "         [0.07643935],\n",
       "         [0.04868435],\n",
       "         [0.15613733]],\n",
       " \n",
       "        [[0.05611272],\n",
       "         [0.06787541],\n",
       "         [0.11855589],\n",
       "         ...,\n",
       "         [0.10840284],\n",
       "         [0.07463155],\n",
       "         [0.10218979]],\n",
       " \n",
       "        [[0.04997525],\n",
       "         [0.06455919],\n",
       "         [0.05638682],\n",
       "         ...,\n",
       "         [0.14873944],\n",
       "         [0.15057953],\n",
       "         [0.05437344]]]),\n",
       " 'pscore': array([0.12123183, 0.10223103, 0.1192195 , ..., 0.04138881, 0.11885694,\n",
       "        0.14873944])}"
      ]
     },
     "execution_count": 6,
     "metadata": {},
     "output_type": "execute_result"
    }
   ],
   "source": [
    "# `bandit_feedback` is a dictionary storing synthetic logged bandit data\n",
    "bandit_feedback_train"
   ]
  },
  {
   "cell_type": "code",
   "execution_count": null,
   "metadata": {},
   "outputs": [],
   "source": []
  },
  {
   "cell_type": "markdown",
   "metadata": {},
   "source": [
    "## (2) Off-Policy Learning\n",
    "After generating synthetic data, we now train some decision making policies.\n",
    "\n",
    "To train policies on logged bandit data, we use\n",
    "\n",
    "- `obp.policy.NNPolicyLearner` (Neural Network Policy Learner)\n",
    "- `obp.policy.IPWLearner`\n",
    "\n",
    "For `NN Learner`, we use \n",
    "- Direct Method (\"dm\")\n",
    "- InverseProbabilityWeighting (\"ipw\")\n",
    "- DoublyRobust (\"dr\") \n",
    "\n",
    "as its objective functions (`off_policy_objective`). \n",
    "\n",
    "For `IPW Learner`, we use `RandomForestClassifier` and *LogisticRegression* implemented in scikit-learn for base ML methods."
   ]
  },
  {
   "cell_type": "markdown",
   "metadata": {},
   "source": [
    "A policy is trained by maximizing an OPE estimator as an objective function as follows.\n",
    "\n",
    "$$ \\hat{\\pi} \\in \\arg \\max_{\\pi \\in \\Pi} \\hat{V} (\\pi; \\mathcal{D}_{tr}) - \\lambda \\cdot \\Omega (\\pi)  $$\n",
    "\n",
    "where $\\hat{V}(\\cdot; \\mathcal{D})$ is an off-policy objective and $\\mathcal{D}_{tr}$ is a training bandit dataset. $\\Omega (\\cdot)$ is a regularization term."
   ]
  },
  {
   "cell_type": "code",
   "execution_count": 7,
   "metadata": {},
   "outputs": [
    {
     "name": "stderr",
     "output_type": "stream",
     "text": [
      "q-func learning: 100%|██████████| 200/200 [00:19<00:00, 10.51it/s]\n",
      "policy learning: 100%|██████████| 200/200 [00:47<00:00,  4.23it/s]\n"
     ]
    }
   ],
   "source": [
    "# define NNPolicyLearner with DM as its objective function\n",
    "nn_dm = NNPolicyLearner(\n",
    "    n_actions=dataset.n_actions,\n",
    "    dim_context=dataset.dim_context,\n",
    "    off_policy_objective=\"dm\",\n",
    "    batch_size=64,\n",
    "    random_state=12345,\n",
    ")\n",
    "\n",
    "# train NNPolicyLearner on the training set of logged bandit data\n",
    "nn_dm.fit(\n",
    "    context=bandit_feedback_train[\"context\"],\n",
    "    action=bandit_feedback_train[\"action\"],\n",
    "    reward=bandit_feedback_train[\"reward\"],\n",
    ")\n",
    "\n",
    "# obtains action choice probabilities for the test set\n",
    "action_dist_nn_dm = nn_dm.predict_proba(\n",
    "    context=bandit_feedback_test[\"context\"]\n",
    ")"
   ]
  },
  {
   "cell_type": "code",
   "execution_count": 8,
   "metadata": {},
   "outputs": [
    {
     "name": "stderr",
     "output_type": "stream",
     "text": [
      "policy learning: 100%|██████████| 200/200 [00:52<00:00,  3.79it/s]\n"
     ]
    }
   ],
   "source": [
    "# define NNPolicyLearner with IPW as its objective function\n",
    "nn_ipw = NNPolicyLearner(\n",
    "    n_actions=dataset.n_actions,\n",
    "    dim_context=dataset.dim_context,\n",
    "    off_policy_objective=\"ipw\",\n",
    "    batch_size=64,\n",
    "    random_state=12345,\n",
    ")\n",
    "\n",
    "# train NNPolicyLearner on the training set of logged bandit data\n",
    "nn_ipw.fit(\n",
    "    context=bandit_feedback_train[\"context\"],\n",
    "    action=bandit_feedback_train[\"action\"],\n",
    "    reward=bandit_feedback_train[\"reward\"],\n",
    "    pscore=bandit_feedback_train[\"pscore\"],\n",
    ")\n",
    "\n",
    "# obtains action choice probabilities for the test set\n",
    "action_dist_nn_ipw = nn_ipw.predict_proba(\n",
    "    context=bandit_feedback_test[\"context\"]\n",
    ")"
   ]
  },
  {
   "cell_type": "code",
   "execution_count": 9,
   "metadata": {},
   "outputs": [
    {
     "name": "stderr",
     "output_type": "stream",
     "text": [
      "q-func learning: 100%|██████████| 200/200 [00:20<00:00,  9.80it/s]\n",
      "policy learning: 100%|██████████| 200/200 [00:54<00:00,  3.64it/s]\n"
     ]
    }
   ],
   "source": [
    "# define NNPolicyLearner with DR as its objective function\n",
    "nn_dr = NNPolicyLearner(\n",
    "    n_actions=dataset.n_actions,\n",
    "    dim_context=dataset.dim_context,\n",
    "    off_policy_objective=\"dr\",\n",
    "    batch_size=64,\n",
    "    random_state=12345,\n",
    ")\n",
    "\n",
    "# train NNPolicyLearner on the training set of logged bandit data\n",
    "nn_dr.fit(\n",
    "    context=bandit_feedback_train[\"context\"],\n",
    "    action=bandit_feedback_train[\"action\"],\n",
    "    reward=bandit_feedback_train[\"reward\"],\n",
    "    pscore=bandit_feedback_train[\"pscore\"],\n",
    ")\n",
    "\n",
    "# obtains action choice probabilities for the test set\n",
    "action_dist_nn_dr = nn_dr.predict_proba(\n",
    "    context=bandit_feedback_test[\"context\"]\n",
    ")"
   ]
  },
  {
   "cell_type": "code",
   "execution_count": 10,
   "metadata": {
    "tags": []
   },
   "outputs": [],
   "source": [
    "# define IPWLearner with Logistic Regression as its base ML model\n",
    "ipw_lr = IPWLearner(\n",
    "    n_actions=dataset.n_actions,\n",
    "    base_classifier=LogisticRegression(C=100, random_state=12345)\n",
    ")\n",
    "\n",
    "# train IPWLearner on the training set of logged bandit data\n",
    "ipw_lr.fit(\n",
    "    context=bandit_feedback_train[\"context\"],\n",
    "    action=bandit_feedback_train[\"action\"],\n",
    "    reward=bandit_feedback_train[\"reward\"],\n",
    "    pscore=bandit_feedback_train[\"pscore\"]\n",
    ")\n",
    "\n",
    "# obtains action choice probabilities for the test set\n",
    "action_dist_ipw_lr = ipw_lr.predict(\n",
    "    context=bandit_feedback_test[\"context\"]\n",
    ")"
   ]
  },
  {
   "cell_type": "code",
   "execution_count": 11,
   "metadata": {
    "tags": []
   },
   "outputs": [],
   "source": [
    "# define IPWLearner with Random Forest as its base ML model\n",
    "ipw_rf = IPWLearner(\n",
    "    n_actions=dataset.n_actions,\n",
    "    base_classifier=RandomForest(\n",
    "        n_estimators=30, min_samples_leaf=10, random_state=12345\n",
    "    )\n",
    ")\n",
    "\n",
    "# train IPWLearner on the training set of logged bandit data\n",
    "ipw_rf.fit(\n",
    "    context=bandit_feedback_train[\"context\"],\n",
    "    action=bandit_feedback_train[\"action\"],\n",
    "    reward=bandit_feedback_train[\"reward\"],\n",
    "    pscore=bandit_feedback_train[\"pscore\"]\n",
    ")\n",
    "\n",
    "# obtains action choice probabilities for the test set\n",
    "action_dist_ipw_rf = ipw_rf.predict(\n",
    "    context=bandit_feedback_test[\"context\"]\n",
    ")"
   ]
  },
  {
   "cell_type": "code",
   "execution_count": 12,
   "metadata": {},
   "outputs": [],
   "source": [
    "# define Uniform Random Policy as a baseline evaluation policy\n",
    "random = Random(n_actions=dataset.n_actions,)\n",
    "\n",
    "# compute the action choice probabilities for the test set\n",
    "action_dist_random = random.compute_batch_action_dist(\n",
    "    n_rounds=bandit_feedback_test[\"n_rounds\"]\n",
    ")"
   ]
  },
  {
   "cell_type": "code",
   "execution_count": 13,
   "metadata": {},
   "outputs": [
    {
     "data": {
      "text/plain": [
       "array([[1., 0., 0., ..., 0., 0., 0.],\n",
       "       [0., 0., 1., ..., 0., 0., 0.],\n",
       "       [0., 0., 1., ..., 0., 0., 0.],\n",
       "       ...,\n",
       "       [0., 0., 1., ..., 0., 0., 0.],\n",
       "       [0., 0., 0., ..., 0., 0., 1.],\n",
       "       [0., 0., 0., ..., 0., 1., 0.]])"
      ]
     },
     "execution_count": 13,
     "metadata": {},
     "output_type": "execute_result"
    }
   ],
   "source": [
    "# action_dist is a probability distribution over actions (can be deterministic)\n",
    "action_dist_ipw_lr[:, :, 0]"
   ]
  },
  {
   "cell_type": "code",
   "execution_count": null,
   "metadata": {},
   "outputs": [],
   "source": []
  },
  {
   "cell_type": "markdown",
   "metadata": {},
   "source": [
    "## (3) Evaluation of Off-Policy Learners\n",
    "Our final step is the evaluation and comparison of the off-policy learners.\n",
    "\n",
    "With synthetic data, we can calculate the policy value of the off-policy learners as follows. \n",
    "\n",
    "$$V(\\pi_e) \\approx \\frac{1}{|\\mathcal{D}_{te}|} \\sum_{i=1}^{|\\mathcal{D}_{te}|} \\mathbb{E}_{a \\sim \\pi_e(a|x_i)} [q(x_i, a)], \\; \\, where \\; \\, q(x,a) := \\mathbb{E}_{r \\sim p(r|x,a)} [r]$$\n",
    "\n",
    "where $\\mathcal{D}_{te}$ is the test set of logged bandit data."
   ]
  },
  {
   "cell_type": "code",
   "execution_count": 14,
   "metadata": {
    "tags": []
   },
   "outputs": [
    {
     "name": "stdout",
     "output_type": "stream",
     "text": [
      "policy value of NN Policy Learner with DM: 0.7862505830999654\n",
      "policy value of NN Policy Learner with IPW: 0.7606162025424541\n",
      "policy value of NN Policy Learner with DR: 0.7732793867972861\n",
      "policy value of IPW Learner with Logistic Regression: 0.7933299733929567\n",
      "policy value of IPW Learner with Random Forest: 0.7050722711915117\n",
      "policy value of Unifrom Random: 0.49992528545607745\n"
     ]
    }
   ],
   "source": [
    "# we calculate the policy values of the trained policies based on the expected rewards of the test data\n",
    "policy_names = [\n",
    "    \"NN Policy Learner with DM\",\n",
    "    \"NN Policy Learner with IPW\",\n",
    "    \"NN Policy Learner with DR\",\n",
    "    \"IPW Learner with Logistic Regression\",\n",
    "    \"IPW Learner with Random Forest\",\n",
    "    \"Unifrom Random\"\n",
    "]\n",
    "action_dist_list = [\n",
    "    action_dist_nn_dm,\n",
    "    action_dist_nn_ipw,\n",
    "    action_dist_nn_dr,\n",
    "    action_dist_ipw_lr,\n",
    "    action_dist_ipw_rf,\n",
    "    action_dist_random\n",
    "]\n",
    "\n",
    "for name, action_dist in zip(policy_names, action_dist_list):\n",
    "    true_policy_value = dataset.calc_ground_truth_policy_value(\n",
    "        expected_reward=bandit_feedback_test[\"expected_reward\"],\n",
    "        action_dist=action_dist,\n",
    "    )\n",
    "    print(f'policy value of {name}: {true_policy_value}')"
   ]
  },
  {
   "cell_type": "markdown",
   "metadata": {},
   "source": [
    "In fact, `IPWLearner` with `LogisticRegression` seems to be the best in this simple setting."
   ]
  },
  {
   "cell_type": "markdown",
   "metadata": {},
   "source": [
    "We can iterate the above process several times to get more reliable results.\n",
    "\n",
    "Please see [../examples/opl](../opl) for a more sophisticated example of the evaluation of off-policy learners with synthetic bandit data."
   ]
  },
  {
   "cell_type": "code",
   "execution_count": null,
   "metadata": {},
   "outputs": [],
   "source": []
  }
 ],
 "metadata": {
  "interpreter": {
   "hash": "2983b6b3c1063922151fa571d104b6ca2cb14ad83ab0b1242d2b4dea4ead8697"
  },
  "kernelspec": {
   "display_name": "Python 3.9.5 64-bit ('zr-obp': pyenv)",
   "name": "python3"
  },
  "language_info": {
   "codemirror_mode": {
    "name": "ipython",
    "version": 3
   },
   "file_extension": ".py",
   "mimetype": "text/x-python",
   "name": "python",
   "nbconvert_exporter": "python",
   "pygments_lexer": "ipython3",
   "version": "3.9.5"
  }
 },
 "nbformat": 4,
 "nbformat_minor": 2
}
